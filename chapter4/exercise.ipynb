{
 "cells": [
  {
   "cell_type": "code",
   "execution_count": 1,
   "id": "9bb2e29e-f76e-4a17-ba4a-ae5a7a8bbe75",
   "metadata": {},
   "outputs": [],
   "source": [
    "text = \"\"\"\n",
    "メロスは激怒した。\n",
    "必ず、かの邪智暴虐の王を除かなければならぬと決意した。\n",
    "メロスには政治がわからぬ。\n",
    "メロスは、村の牧人である。\n",
    "笛を吹き、羊と遊んで暮して来た。\n",
    "けれども邪悪に対しては、人一倍に敏感であった。\n",
    "\"\"\""
   ]
  },
  {
   "cell_type": "code",
   "execution_count": 2,
   "id": "451ca9dd-937f-4766-97cf-ee35b67e3d16",
   "metadata": {},
   "outputs": [
    {
     "name": "stdout",
     "output_type": "stream",
     "text": [
      "\n",
      "メロスは激怒した。\n",
      "必ず、かの邪智暴虐の王を除かなければならぬと決意した。\n",
      "メロスには政治がわからぬ。\n",
      "メロスは、村の牧人である。\n",
      "笛を吹き、羊と遊んで暮して来た。\n",
      "けれども邪悪に対しては、人一倍に敏感であった。\n",
      "\n"
     ]
    }
   ],
   "source": [
    "print(text)"
   ]
  },
  {
   "cell_type": "code",
   "execution_count": 3,
   "id": "df5ee7de-9bd7-4995-b37a-fe8a3a7d65ad",
   "metadata": {},
   "outputs": [],
   "source": [
    "import MeCab"
   ]
  },
  {
   "cell_type": "code",
   "execution_count": 4,
   "id": "e6e5c931-891f-419e-b53c-8663f030d20d",
   "metadata": {},
   "outputs": [],
   "source": [
    "tagger = MeCab.Tagger(\"\")\n",
    "lines = tagger.parse(text).splitlines()\n"
   ]
  },
  {
   "cell_type": "code",
   "execution_count": 5,
   "id": "79f9c39b-dd9e-40d0-9e9e-3d5f2e267112",
   "metadata": {},
   "outputs": [
    {
     "name": "stdout",
     "output_type": "stream",
     "text": [
      "['し', '除か', 'なら', 'し', 'わから', 'ある', '吹き', '遊ん', '暮し', '来', '対し', 'あっ']\n"
     ]
    }
   ],
   "source": [
    "# 30\n",
    "verbs = []\n",
    "\n",
    "for line in lines:\n",
    "    if line == \"EOS\" or line == \"\":\n",
    "        continue\n",
    "    parts = line.split(\"\\t\")\n",
    "    surface = parts[0]\n",
    "    feature = parts[4]\n",
    "    features = feature.split(\"-\")\n",
    "    \n",
    "    if features[0] == \"動詞\":\n",
    "        verbs.append(surface)\n",
    "\n",
    "print(verbs)\n"
   ]
  },
  {
   "cell_type": "code",
   "execution_count": 6,
   "id": "92fd3b12-2234-4184-9171-2f5e1dd4fbf5",
   "metadata": {},
   "outputs": [
    {
     "name": "stdout",
     "output_type": "stream",
     "text": [
      "['為る', '除く', '成る', '為る', '分かる', '有る', '吹く', '遊ぶ', '暮らす', '来る', '対する', '有る']\n"
     ]
    }
   ],
   "source": [
    "# 31\n",
    "base_verbs = []\n",
    "\n",
    "for line in lines:\n",
    "    if line == \"EOS\" or line == \"\":\n",
    "        continue\n",
    "    parts = line.split(\"\\t\")\n",
    "    base = parts[3]\n",
    "    feature = parts[4]\n",
    "    features = feature.split(\"-\")\n",
    "    \n",
    "    if features[0] == \"動詞\":\n",
    "        base_verbs.append(base)\n",
    "\n",
    "print(base_verbs)\n"
   ]
  },
  {
   "cell_type": "code",
   "execution_count": 7,
   "id": "4ee268bb-002c-458c-b78c-7f21e8f1ddd9",
   "metadata": {},
   "outputs": [
    {
     "name": "stdout",
     "output_type": "stream",
     "text": [
      "['暴虐の王', '村の牧人']\n"
     ]
    }
   ],
   "source": [
    "# 32\n",
    "tokens = []\n",
    "for line in tagger.parse(text).splitlines():\n",
    "    if line == \"EOS\" or not line.strip():\n",
    "        continue\n",
    "    parts = line.split(\"\\t\")\n",
    "    surface = parts[0]\n",
    "    feature = parts[4]\n",
    "    features = feature.split(\"-\")\n",
    "    tokens.append((surface, features[0]))\n",
    "\n",
    "results = []\n",
    "for i in range(len(tokens) - 2):\n",
    "    if tokens[i][1] == \"名詞\" and tokens[i + 1][0] == \"の\" and tokens[i + 2][1] == \"名詞\":\n",
    "        results.append(tokens[i][0] + \"の\" + tokens[i + 2][0])\n",
    "\n",
    "print(results)\n"
   ]
  },
  {
   "cell_type": "code",
   "execution_count": null,
   "id": "ec211cf5-1297-4a92-b8ce-f6de7dd622b9",
   "metadata": {},
   "outputs": [],
   "source": []
  }
 ],
 "metadata": {
  "kernelspec": {
   "display_name": "Python 3 (ipykernel)",
   "language": "python",
   "name": "python3"
  },
  "language_info": {
   "codemirror_mode": {
    "name": "ipython",
    "version": 3
   },
   "file_extension": ".py",
   "mimetype": "text/x-python",
   "name": "python",
   "nbconvert_exporter": "python",
   "pygments_lexer": "ipython3",
   "version": "3.12.3"
  }
 },
 "nbformat": 4,
 "nbformat_minor": 5
}
