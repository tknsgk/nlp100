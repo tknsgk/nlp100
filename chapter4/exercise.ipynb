{
 "cells": [
  {
   "cell_type": "code",
   "execution_count": 1,
   "id": "de7a5549-2d98-4c2e-8e1f-348e1e2832f7",
   "metadata": {},
   "outputs": [],
   "source": [
    "# https://taku910.github.io/mecab/\n",
    "import MeCab\n",
    "\n",
    "# https://taku910.github.io/cabocha/\n",
    "import CaboCha\n",
    "\n",
    "import re"
   ]
  },
  {
   "cell_type": "code",
   "execution_count": 2,
   "id": "9bb2e29e-f76e-4a17-ba4a-ae5a7a8bbe75",
   "metadata": {},
   "outputs": [],
   "source": [
    "text = \"\"\"\n",
    "メロスは激怒した。\n",
    "必ず、かの邪智暴虐の王を除かなければならぬと決意した。\n",
    "メロスには政治がわからぬ。\n",
    "メロスは、村の牧人である。\n",
    "笛を吹き、羊と遊んで暮して来た。\n",
    "けれども邪悪に対しては、人一倍に敏感であった。\n",
    "\"\"\""
   ]
  },
  {
   "cell_type": "code",
   "execution_count": 3,
   "id": "451ca9dd-937f-4766-97cf-ee35b67e3d16",
   "metadata": {},
   "outputs": [
    {
     "name": "stdout",
     "output_type": "stream",
     "text": [
      "\n",
      "メロスは激怒した。\n",
      "必ず、かの邪智暴虐の王を除かなければならぬと決意した。\n",
      "メロスには政治がわからぬ。\n",
      "メロスは、村の牧人である。\n",
      "笛を吹き、羊と遊んで暮して来た。\n",
      "けれども邪悪に対しては、人一倍に敏感であった。\n",
      "\n"
     ]
    }
   ],
   "source": [
    "print(text)"
   ]
  },
  {
   "cell_type": "code",
   "execution_count": 4,
   "id": "e6e5c931-891f-419e-b53c-8663f030d20d",
   "metadata": {},
   "outputs": [],
   "source": [
    "tagger = MeCab.Tagger()\n",
    "\n",
    "def get_parse_list(text: str) -> list[list[str]]:\n",
    "    return [\n",
    "        line.split(\"\\t\")\n",
    "        for line in tagger.parse(text).splitlines()\n",
    "        if line and line != \"EOS\"\n",
    "    ]"
   ]
  },
  {
   "cell_type": "code",
   "execution_count": 5,
   "id": "79f9c39b-dd9e-40d0-9e9e-3d5f2e267112",
   "metadata": {},
   "outputs": [
    {
     "name": "stdout",
     "output_type": "stream",
     "text": [
      "['し', '除か', 'なら', 'し', 'わから', 'ある', '吹き', '遊ん', '暮し', '来', '対し', 'あっ']\n"
     ]
    }
   ],
   "source": [
    "# 30\n",
    "verbs = []\n",
    "\n",
    "for l in get_parse_list(text):\n",
    "    surface = l[0]\n",
    "    feature = l[4]    \n",
    "    if feature.startswith(\"動詞\"):\n",
    "        verbs.append(surface)\n",
    "print(verbs)"
   ]
  },
  {
   "cell_type": "code",
   "execution_count": 6,
   "id": "92fd3b12-2234-4184-9171-2f5e1dd4fbf5",
   "metadata": {},
   "outputs": [
    {
     "name": "stdout",
     "output_type": "stream",
     "text": [
      "['為る', '除く', '成る', '為る', '分かる', '有る', '吹く', '遊ぶ', '暮らす', '来る', '対する', '有る']\n"
     ]
    }
   ],
   "source": [
    "# 31\n",
    "base_verbs = []\n",
    "\n",
    "for l in get_parse_list(text):\n",
    "    base = l[3]\n",
    "    feature = l[4]    \n",
    "    if feature.startswith(\"動詞\"):\n",
    "        base_verbs.append(base)\n",
    "print(base_verbs)"
   ]
  },
  {
   "cell_type": "code",
   "execution_count": 7,
   "id": "4ee268bb-002c-458c-b78c-7f21e8f1ddd9",
   "metadata": {},
   "outputs": [
    {
     "name": "stdout",
     "output_type": "stream",
     "text": [
      "['暴虐の王', '村の牧人']\n"
     ]
    }
   ],
   "source": [
    "# 32\n",
    "tokens = []\n",
    "for l in get_parse_list(text):\n",
    "    surface = l[0]\n",
    "    feature = l[4]\n",
    "    features = feature.split(\"-\")\n",
    "    tokens.append((surface, features[0]))\n",
    "    \n",
    "results = []\n",
    "for i in range(len(tokens) - 2):\n",
    "    if tokens[i][1] == \"名詞\" and tokens[i + 1][0] == \"の\" and tokens[i + 2][1] == \"名詞\":\n",
    "        results.append(tokens[i][0] + \"の\" + tokens[i + 2][0])\n",
    "\n",
    "print(results)"
   ]
  },
  {
   "cell_type": "code",
   "execution_count": 8,
   "id": "fa8c20ae-1b62-4bbf-9248-846fbade946f",
   "metadata": {},
   "outputs": [],
   "source": [
    "cabocha = CaboCha.Parser()\n",
    "tree = cabocha.parse(text)"
   ]
  },
  {
   "cell_type": "code",
   "execution_count": 9,
   "id": "7dd02272-0ac9-4028-bee8-1bf2cef6d687",
   "metadata": {},
   "outputs": [
    {
     "name": "stdout",
     "output_type": "stream",
     "text": [
      "メロスは\t激怒した。\n",
      "かの\t邪智暴虐の\n",
      "邪智暴虐の\t王を\n",
      "王を\t除かなければならぬと\n",
      "除かなければならぬと\t決意した。\n",
      "メロスには\tわからぬ。\n",
      "政治が\tわからぬ。\n",
      "村の\t牧人である。\n",
      "笛を\t吹き、\n",
      "羊と\t遊んで\n",
      "遊んで\t暮して来た。\n",
      "けれども\t敏感であった。\n",
      "人一倍に\t敏感であった。\n"
     ]
    }
   ],
   "source": [
    "# 33\n",
    "\n",
    "from_to = {}\n",
    "ch_map = {}\n",
    "ch = \"\"\n",
    "ch_no = \"\"\n",
    "symbol = False\n",
    "\n",
    "\n",
    "lines = tree.toString(CaboCha.CABOCHA_FORMAT_LATTICE).splitlines()\n",
    "for l in lines:\n",
    "    if l == \"EOS\":\n",
    "        break\n",
    "    if l.startswith(\"*\"):\n",
    "        if symbol:\n",
    "            from_to.pop(ch_no)\n",
    "            symbol = False\n",
    "        ch_map[ch_no] = ch\n",
    "        ch = \"\"\n",
    "        s = l.split(\"\\u0020\")\n",
    "        ch_no = s[1]\n",
    "        if not s[2].startswith(\"-\"):\n",
    "            from_to[ch_no] = re.findall(r\"\\d+\", s[2])[0]\n",
    "    else:\n",
    "        sp = l.split(\"\\t\")\n",
    "        ch += sp[0]\n",
    "        if sp[1].startswith(\"記号\"):\n",
    "            symbol = True\n",
    "ch_map[ch_no] = ch\n",
    "\n",
    "\n",
    "for i in from_to.keys():\n",
    "    print(f\"{ch_map[i]}\\t{ch_map[from_to[i]]}\")"
   ]
  },
  {
   "cell_type": "code",
   "execution_count": 10,
   "id": "cff5ab1b-5b76-498e-b63a-8bc2e868a822",
   "metadata": {},
   "outputs": [
    {
     "name": "stdout",
     "output_type": "stream",
     "text": [
      "['激怒した。', '決意した。', 'わからぬ。', '牧人である。', '暮して来た。', '敏感であった。']\n"
     ]
    }
   ],
   "source": [
    "# 34\n",
    "\n",
    "ch = \"\"\n",
    "memo_ch_no = -1\n",
    "target_ch_no = -1\n",
    "target_flag = False\n",
    "verbs = []\n",
    "\n",
    "\n",
    "lines = tree.toString(CaboCha.CABOCHA_FORMAT_LATTICE).splitlines()\n",
    "for l in lines:\n",
    "    if l == \"EOS\":\n",
    "        break\n",
    "    if l.startswith(\"*\"):\n",
    "        target_flag = False\n",
    "        if 0 < len(ch):\n",
    "            verbs.append(ch)\n",
    "            ch = \"\"\n",
    "        s = l.split(\"\\u0020\")\n",
    "        if not s[2].startswith(\"-\"):\n",
    "            memo_ch_no = re.findall(r\"\\d+\", s[2])[0]\n",
    "        if s[1] == target_ch_no:\n",
    "            target_ch_no = memo_ch_no\n",
    "            target_flag = True\n",
    "    else:\n",
    "        sp = l.split(\"\\t\")\n",
    "        if sp[0] == \"メロス\":\n",
    "            target_ch_no = memo_ch_no\n",
    "        if target_flag:\n",
    "            ch += sp[0]\n",
    "if 0 < len(ch):\n",
    "    verbs.append(ch)\n",
    "\n",
    "    \n",
    "print(verbs)"
   ]
  },
  {
   "cell_type": "code",
   "execution_count": 11,
   "id": "61a5dca0-5750-4dfd-9405-a166081cd0d3",
   "metadata": {},
   "outputs": [
    {
     "name": "stdout",
     "output_type": "stream",
     "text": [
      "            メロスは-D                                          \n",
      "            激怒した。-----------D                              \n",
      "                  必ず、-------D |                              \n",
      "                      かの-D   | |                              \n",
      "                  邪智暴虐の-D | |                              \n",
      "                          王を-D |                              \n",
      "            除かなければならぬと-D                              \n",
      "                        決意した。-----D                        \n",
      "                          メロスには---D                        \n",
      "                                政治が-D                        \n",
      "                              わからぬ。-----D                  \n",
      "                                メロスは、---D                  \n",
      "                                        村の-D                  \n",
      "                                  牧人である。---------D        \n",
      "                                            笛を-D     |        \n",
      "                                            吹き、-----D        \n",
      "                                                羊と-D |        \n",
      "                                                遊んで-D        \n",
      "                                            暮して来た。-------D\n",
      "                                                  けれども-----D\n",
      "                                            邪悪に対しては、---D\n",
      "                                                      人一倍に-D\n",
      "                                                  敏感であった。\n",
      "EOS\n",
      "\n"
     ]
    }
   ],
   "source": [
    "# 35\n",
    "\n",
    "print(cabocha.parseToString(text))"
   ]
  },
  {
   "cell_type": "code",
   "execution_count": null,
   "id": "a8fe79f4-7e62-436c-af88-1c0c4acc35fd",
   "metadata": {},
   "outputs": [],
   "source": []
  }
 ],
 "metadata": {
  "kernelspec": {
   "display_name": "Python 3 (ipykernel)",
   "language": "python",
   "name": "python3"
  },
  "language_info": {
   "codemirror_mode": {
    "name": "ipython",
    "version": 3
   },
   "file_extension": ".py",
   "mimetype": "text/x-python",
   "name": "python",
   "nbconvert_exporter": "python",
   "pygments_lexer": "ipython3",
   "version": "3.12.3"
  }
 },
 "nbformat": 4,
 "nbformat_minor": 5
}
