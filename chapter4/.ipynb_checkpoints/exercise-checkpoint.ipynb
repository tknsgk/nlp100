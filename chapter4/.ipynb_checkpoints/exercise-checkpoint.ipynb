{
 "cells": [
  {
   "cell_type": "code",
   "execution_count": 1,
   "id": "9bb2e29e-f76e-4a17-ba4a-ae5a7a8bbe75",
   "metadata": {},
   "outputs": [],
   "source": [
    "text = \"\"\"\n",
    "メロスは激怒した。\n",
    "必ず、かの邪智暴虐の王を除かなければならぬと決意した。\n",
    "メロスには政治がわからぬ。\n",
    "メロスは、村の牧人である。\n",
    "笛を吹き、羊と遊んで暮して来た。\n",
    "けれども邪悪に対しては、人一倍に敏感であった。\n",
    "\"\"\""
   ]
  },
  {
   "cell_type": "code",
   "execution_count": 2,
   "id": "451ca9dd-937f-4766-97cf-ee35b67e3d16",
   "metadata": {},
   "outputs": [
    {
     "name": "stdout",
     "output_type": "stream",
     "text": [
      "\n",
      "メロスは激怒した。\n",
      "必ず、かの邪智暴虐の王を除かなければならぬと決意した。\n",
      "メロスには政治がわからぬ。\n",
      "メロスは、村の牧人である。\n",
      "笛を吹き、羊と遊んで暮して来た。\n",
      "けれども邪悪に対しては、人一倍に敏感であった。\n",
      "\n"
     ]
    }
   ],
   "source": [
    "print(text)"
   ]
  },
  {
   "cell_type": "code",
   "execution_count": 3,
   "id": "df5ee7de-9bd7-4995-b37a-fe8a3a7d65ad",
   "metadata": {},
   "outputs": [],
   "source": [
    "# https://taku910.github.io/mecab/\n",
    "\n",
    "import MeCab"
   ]
  },
  {
   "cell_type": "code",
   "execution_count": 4,
   "id": "e6e5c931-891f-419e-b53c-8663f030d20d",
   "metadata": {},
   "outputs": [],
   "source": [
    "tagger = MeCab.Tagger()\n",
    "\n",
    "def get_parse_list(text: str) -> list[list[str]]:\n",
    "    return [\n",
    "        line.split(\"\\t\")\n",
    "        for line in tagger.parse(text).splitlines()\n",
    "        if line and line != \"EOS\"\n",
    "    ]"
   ]
  },
  {
   "cell_type": "code",
   "execution_count": 5,
   "id": "79f9c39b-dd9e-40d0-9e9e-3d5f2e267112",
   "metadata": {},
   "outputs": [
    {
     "name": "stdout",
     "output_type": "stream",
     "text": [
      "['し', '除か', 'なら', 'し', 'わから', 'ある', '吹き', '遊ん', '暮し', '来', '対し', 'あっ']\n"
     ]
    }
   ],
   "source": [
    "# 30\n",
    "verbs = []\n",
    "\n",
    "for l in get_parse_list(text):\n",
    "    surface = l[0]\n",
    "    feature = l[4]    \n",
    "    if feature.startswith(\"動詞\"):\n",
    "        verbs.append(surface)\n",
    "print(verbs)"
   ]
  },
  {
   "cell_type": "code",
   "execution_count": 6,
   "id": "92fd3b12-2234-4184-9171-2f5e1dd4fbf5",
   "metadata": {},
   "outputs": [
    {
     "name": "stdout",
     "output_type": "stream",
     "text": [
      "['為る', '除く', '成る', '為る', '分かる', '有る', '吹く', '遊ぶ', '暮らす', '来る', '対する', '有る']\n"
     ]
    }
   ],
   "source": [
    "# 31\n",
    "base_verbs = []\n",
    "\n",
    "for l in get_parse_list(text):\n",
    "    base = l[3]\n",
    "    feature = l[4]    \n",
    "    if feature.startswith(\"動詞\"):\n",
    "        base_verbs.append(base)\n",
    "print(base_verbs)"
   ]
  },
  {
   "cell_type": "code",
   "execution_count": 7,
   "id": "4ee268bb-002c-458c-b78c-7f21e8f1ddd9",
   "metadata": {},
   "outputs": [
    {
     "name": "stdout",
     "output_type": "stream",
     "text": [
      "['暴虐の王', '村の牧人']\n"
     ]
    }
   ],
   "source": [
    "# 32\n",
    "tokens = []\n",
    "for l in get_parse_list(text):\n",
    "    surface = l[0]\n",
    "    feature = l[4]\n",
    "    features = feature.split(\"-\")\n",
    "    tokens.append((surface, features[0]))\n",
    "    \n",
    "results = []\n",
    "for i in range(len(tokens) - 2):\n",
    "    if tokens[i][1] == \"名詞\" and tokens[i + 1][0] == \"の\" and tokens[i + 2][1] == \"名詞\":\n",
    "        results.append(tokens[i][0] + \"の\" + tokens[i + 2][0])\n",
    "\n",
    "print(results)"
   ]
  },
  {
   "cell_type": "code",
   "execution_count": 8,
   "id": "ec211cf5-1297-4a92-b8ce-f6de7dd622b9",
   "metadata": {},
   "outputs": [],
   "source": [
    "# https://taku910.github.io/cabocha/\n",
    "\n",
    "import CaboCha"
   ]
  },
  {
   "cell_type": "code",
   "execution_count": 9,
   "id": "7dd02272-0ac9-4028-bee8-1bf2cef6d687",
   "metadata": {},
   "outputs": [
    {
     "name": "stdout",
     "output_type": "stream",
     "text": [
      "メロスは\t激怒した。\n",
      "かの\t邪智暴虐の\n",
      "邪智暴虐の\t王を\n",
      "王を\t除かなければならぬと\n",
      "除かなければならぬと\t決意した。\n",
      "メロスには\tわからぬ。\n",
      "政治が\tわからぬ。\n",
      "村の\t牧人である。\n",
      "笛を\t吹き、\n",
      "羊と\t遊んで\n",
      "遊んで\t暮して来た。\n",
      "けれども\t敏感であった。\n",
      "人一倍に\t敏感であった。\n"
     ]
    }
   ],
   "source": [
    "# 33\n",
    "\n",
    "import re\n",
    "\n",
    "cabocha = CaboCha.Parser()\n",
    "tree = cabocha.parse(text)\n",
    "\n",
    "from_to = {}\n",
    "ch_map = {}\n",
    "ch = \"\"\n",
    "ch_no = \"\"\n",
    "symbol = False\n",
    "\n",
    "\n",
    "lines = tree.toString(CaboCha.CABOCHA_FORMAT_LATTICE).splitlines()\n",
    "for l in lines:\n",
    "    if l == \"EOS\":\n",
    "        break\n",
    "    if l.startswith(\"*\"):\n",
    "        if symbol:\n",
    "            from_to.pop(ch_no)\n",
    "            symbol = False\n",
    "        ch_map[ch_no] = ch\n",
    "        ch = \"\"\n",
    "        s = l.split(\"\\u0020\")\n",
    "        ch_no = s[1]\n",
    "        if not s[2].startswith(\"-\"):\n",
    "            from_to[ch_no] = re.findall(r\"\\d+\", s[2])[0]\n",
    "    else:\n",
    "        sp = l.split(\"\\t\")\n",
    "        ch += sp[0]\n",
    "        if sp[1].startswith(\"記号\"):\n",
    "            symbol = True\n",
    "ch_map[ch_no] = ch\n",
    "\n",
    "\n",
    "for i in from_to.keys():\n",
    "    print(f\"{ch_map[i]}\\t{ch_map[from_to[i]]}\")"
   ]
  },
  {
   "cell_type": "code",
   "execution_count": null,
   "id": "cff5ab1b-5b76-498e-b63a-8bc2e868a822",
   "metadata": {},
   "outputs": [],
   "source": []
  }
 ],
 "metadata": {
  "kernelspec": {
   "display_name": "Python 3 (ipykernel)",
   "language": "python",
   "name": "python3"
  },
  "language_info": {
   "codemirror_mode": {
    "name": "ipython",
    "version": 3
   },
   "file_extension": ".py",
   "mimetype": "text/x-python",
   "name": "python",
   "nbconvert_exporter": "python",
   "pygments_lexer": "ipython3",
   "version": "3.12.3"
  }
 },
 "nbformat": 4,
 "nbformat_minor": 5
}
